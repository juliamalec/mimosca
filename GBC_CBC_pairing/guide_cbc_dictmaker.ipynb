{
 "cells": [
  {
   "cell_type": "code",
   "execution_count": null,
   "metadata": {
    "collapsed": true
   },
   "outputs": [],
   "source": [
    "%matplotlib inline"
   ]
  },
  {
   "cell_type": "code",
   "execution_count": null,
   "metadata": {
    "collapsed": false
   },
   "outputs": [],
   "source": [
    "import sys\n",
    "import pandas as pd\n",
    "import numpy as np\n",
    "import scipy\n",
    "import time\n",
    "import matplotlib\n",
    "matplotlib.rcParams['pdf.fonttype'] = 42\n",
    "matplotlib.use('Agg')\n",
    "import matplotlib.pyplot as plt\n",
    "import seaborn as sns\n",
    "import collections\n",
    "import random\n",
    "import Levenshtein\n",
    "sns.set_context('talk')\n",
    "sns.set_style('white')\n",
    "sns.set_style('ticks')\n",
    "import re\n",
    "import csv"
   ]
  },
  {
   "cell_type": "code",
   "execution_count": null,
   "metadata": {
    "collapsed": true
   },
   "outputs": [],
   "source": [
    "#key function\n",
    "\n",
    "#trim guide rna bc mapping\n",
    "def pandas2dict(df):\n",
    "\n",
    "    dfdict={}\n",
    "\n",
    "    for x,y in zip(df['guide'],df['rnabc']):\n",
    "        dfdict[y[4:]]=x\n",
    "    return dfdict\n",
    "\n",
    "def edit_dist(barcodes1,barcodes2):\n",
    "    dist = [[Levenshtein.distance(a,b) for a in barcodes1] for b in barcodes2]\n",
    "    return np.array(dist)\n",
    "\n",
    "def edit_dist_closest(barcode,barcodes):\n",
    "    dist = [Levenshtein.distance(barcode,a) for a in barcodes]\n",
    "    return np.array(dist)\n",
    "\n",
    "def generate_random_bcs(bcs,num=100,edist=2):\n",
    "    bases=['A','G','C','T']\n",
    "    lenseqs=len(bcs[0])\n",
    "\n",
    "    seqsf=[]\n",
    "    curlen=0\n",
    "    while (curlen<=num):\n",
    "        curlen=len(seqsf)\n",
    "        curseq=''.join(bases[random.randint(0,3)] for x in range(lenseqs))\n",
    "        if np.min(edit_dist_closest(curseq,bcs))>=edist:\n",
    "            seqsf.append(curseq)\n",
    "    return seqsf\n",
    "\n",
    "def process_cbcs(bc):\n",
    "    bc['bc']=[x[0:14] for x in bc['bc']]\n",
    "    bc_randos=pd.DataFrame(generate_random_bcs(bc['bc'],num=len(bc)))\n",
    "    bc_randos.columns=['bc']\n",
    "    bc['name']=bc['bc']\n",
    "    bc_randos['name']=bc_randos['bc']\n",
    "    bc=bc.set_index('bc')\n",
    "    bc_randos=bc_randos.set_index('bc')\n",
    "    bc=bc['name'].to_dict()\n",
    "    bc_randos=bc_randos['name'].to_dict()\n",
    "    return bc,bc_randos\n",
    "\n",
    "def alignseqs(seqs,db,ed_col=2):\n",
    "\n",
    "    count=0\n",
    "    count_collapse=0\n",
    "    count_multi=0\n",
    "\n",
    "    curtable=db\n",
    "    curtablelist=list(db.keys())\n",
    "\n",
    "    lookup=[]\n",
    "    lookup_collapse=[]\n",
    "    unaligned=[]\n",
    "\n",
    "    for x in seqs:\n",
    "        if x in curtable:\n",
    "            count+=1\n",
    "            lookup.append(curtable[x])\n",
    "            lookup_collapse.append(curtable[x])\n",
    "        elif ed_col>0:\n",
    "            lookup.append('NA')\n",
    "\n",
    "            #calculate closest match\n",
    "            distvec=edit_dist_closest(x,curtablelist)\n",
    "            mindist=np.min(distvec)\n",
    "            multimap=np.sum(np.array(distvec)==mindist)\n",
    "            if multimap>1:\n",
    "            \tcount_multi+=1\n",
    "            \tlookup_collapse.append('NA')\n",
    "            elif mindist<=ed_col:\n",
    "                count_collapse+=1\n",
    "                lookup_collapse.append(curtable[curtablelist[np.argmin(distvec)]])\n",
    "            else:\n",
    "                lookup_collapse.append('NA')\n",
    "                unaligned.append((x,distvec,mindist))\n",
    "        else:\n",
    "            lookup.append('NA')\n",
    "            lookup_collapse.append('NA')\n",
    "            unaligned.append((x,'NA','NA'))\n",
    "\n",
    "    print('exact percentage',np.divide((1.0*count),len(seqs)))\n",
    "    print('collapsing percentage',np.divide((1.0*count_collapse),len(seqs)))\n",
    "    print('multi mapping percentage',np.divide((1.0*count_multi),len(seqs)))\n",
    "    print('not in database percentage',np.min([np.mean(np.array(lookup)=='NA'),np.mean(np.array(lookup_collapse)=='NA')]))\n",
    "\n",
    "    return lookup,lookup_collapse,unaligned"
   ]
  },
  {
   "cell_type": "code",
   "execution_count": null,
   "metadata": {
    "collapsed": true
   },
   "outputs": [],
   "source": [
    "bc_phusion=pd.read_csv('./small_data/dialout_522_small.txt',sep='\\t',header=None,names=['counts','sampbc','read'])\n",
    "bc_phusion_cbc = [x[6:20] for x in bc_phusion['sampbc']]\n",
    "bc_phusion_cumi = [x+'-'+y[-10:] for x,y in zip(bc_phusion_cbc,bc_phusion['read'])]\n",
    "\n",
    "bc_phusion_rnabc=[]\n",
    "for x in bc_phusion['read']:\n",
    "    end_pos=re.search('CACAAGCTTAATTAAGAATT',x).end()\n",
    "    bc_phusion_rnabc.append(x[end_pos:end_pos+19])\n",
    "\n",
    "bc_phusion['cbc']=bc_phusion_cbc\n",
    "bc_phusion['rnabc']=bc_phusion_rnabc\n",
    "bc_phusion['cbc_umi']=bc_phusion_cumi\n",
    "bc_phusion['counts']=np.array(bc_phusion['counts'])"
   ]
  },
  {
   "cell_type": "code",
   "execution_count": null,
   "metadata": {
    "collapsed": false
   },
   "outputs": [],
   "source": [
    "bc_phusion=bc_phusion[bc_phusion['counts']>1]\n",
    "print('remaining unique seqs',len(bc_phusion))"
   ]
  },
  {
   "cell_type": "code",
   "execution_count": null,
   "metadata": {
    "collapsed": true
   },
   "outputs": [],
   "source": [
    "BCUMI=bc_phusion.groupby('cbc_umi').sum()\n",
    "BCUMI.columns=['cbcumi_tot']\n",
    "BCUMI['cbc_umi']=BCUMI.index"
   ]
  },
  {
   "cell_type": "code",
   "execution_count": null,
   "metadata": {
    "collapsed": true
   },
   "outputs": [],
   "source": [
    "bc_phusion=pd.merge(bc_phusion,BCUMI,on='cbc_umi')"
   ]
  },
  {
   "cell_type": "code",
   "execution_count": null,
   "metadata": {
    "collapsed": true
   },
   "outputs": [],
   "source": [
    "bc_phusion['ratio']=((1.0*bc_phusion['counts'])/(bc_phusion['cbcumi_tot']))"
   ]
  },
  {
   "cell_type": "code",
   "execution_count": null,
   "metadata": {
    "collapsed": false
   },
   "outputs": [],
   "source": [
    "bc_phusion.ratio.hist()\n",
    "plt.xlabel('TPT')\n",
    "plt.ylabel('Frequency')\n",
    "plt.axvline(0.2,c='red')"
   ]
  },
  {
   "cell_type": "code",
   "execution_count": null,
   "metadata": {
    "collapsed": true
   },
   "outputs": [],
   "source": [
    "#filter molecules that looks like they might be potential PCR chimeras\n",
    "bc_phusion_filt=bc_phusion[bc_phusion['ratio']>0.2]"
   ]
  },
  {
   "cell_type": "code",
   "execution_count": null,
   "metadata": {
    "collapsed": true
   },
   "outputs": [],
   "source": [
    "#output path\n",
    "outpath='./'"
   ]
  },
  {
   "cell_type": "code",
   "execution_count": null,
   "metadata": {
    "collapsed": false
   },
   "outputs": [],
   "source": [
    "MAP_table=pandas2dict(pd.read_csv('./small_data/dc_pool.csv',header=None,names=['guide','rnabc']))\n",
    "\n",
    "#align guides\n",
    "lookup,lookup_col,unaligned = alignseqs(bc_phusion_filt['rnabc'],MAP_table,ed_col=4)\n",
    "mindists=[z for x,y,z in unaligned]\n",
    "plt.hist(mindists)\n",
    "plt.ylabel('Freq')\n",
    "plt.xlabel('Closest edit distance')\n",
    "plt.savefig(outpath+'_unaligned_guide_closest.pdf')\n",
    "plt.clf()\n",
    "\n",
    "\n",
    "bc_phusion_filt['guide']=lookup\n",
    "bc_phusion_filt['guide_col']=lookup_col\n",
    "\n",
    "#align cells\n",
    "print('true cell alignment')\n",
    "bc,bc_randos=process_cbcs(pd.read_csv('./small_data/barcodes.tsv',sep='\\t',header=None,names=['bc']))\n",
    "lookup,lookup_col,unaligned = alignseqs(bc_phusion_filt['cbc'],bc,ed_col=1)\n",
    "bc_phusion_filt['cell']=lookup\n",
    "bc_phusion_filt['cell_col']=lookup_col\n",
    "\n",
    "print('Total number of cells in 10x output=',len(bc.keys()))\n",
    "\n",
    "#align random cells\n",
    "#print('random cell alignment')\n",
    "#lookup,lookup_col,unaligned = alignseqs(bc_phusion_filt['cbc'],bc_randos,ed_col=0)\n",
    "#check unique cell barcode umi parings\n",
    "#bc_phusion['nonuniqueness']=flag_nonunique(bc_phusion)\n",
    "\n",
    "tot_reads = bc_phusion_filt['counts']\n",
    "print('total reads=',np.sum(tot_reads))\n",
    "#filter to \"real cells and guides\"\n",
    "guidesNcells = np.logical_and(bc_phusion_filt['cell_col']!='NA',bc_phusion_filt['guide_col']!='NA')\n",
    "bc_phusion_cells = bc_phusion_filt[guidesNcells]\n",
    "print('percent of reads used for guides and cells filter = ',np.divide(1.0*np.sum(tot_reads[guidesNcells]),np.sum(tot_reads)))"
   ]
  },
  {
   "cell_type": "code",
   "execution_count": null,
   "metadata": {
    "collapsed": true
   },
   "outputs": [],
   "source": [
    "bc_phusion_cells_col = bc_phusion_cells.copy()\n",
    "bc_phusion_cells_col['umicount']=[1]*len(bc_phusion_cells_col)\n",
    "bc_phusion_cells_col['cbcguide']=list(zip(bc_phusion_cells_col['cell_col'],bc_phusion_cells_col['guide_col']))\n",
    "BC_PHUSION_F=bc_phusion_cells_col.groupby('cbcguide').sum()\n",
    "BC_PHUSION_F['cbc']=[x[0] for x in BC_PHUSION_F.index]\n",
    "BC_PHUSION_F['guide']=[x[1] for x in BC_PHUSION_F.index]\n",
    "#calculate per cell frequencies"
   ]
  },
  {
   "cell_type": "code",
   "execution_count": null,
   "metadata": {
    "collapsed": true
   },
   "outputs": [],
   "source": [
    "CELL_percentage=pd.DataFrame(BC_PHUSION_F.groupby('cbc').sum()['counts'])\n",
    "CELL_percentage.columns=['cell_counts']\n",
    "CELL_percentage['cbc']=CELL_percentage.index"
   ]
  },
  {
   "cell_type": "code",
   "execution_count": null,
   "metadata": {
    "collapsed": true
   },
   "outputs": [],
   "source": [
    "BC_PHUSION_FF=pd.merge(BC_PHUSION_F,CELL_percentage,on='cbc')"
   ]
  },
  {
   "cell_type": "code",
   "execution_count": null,
   "metadata": {
    "collapsed": true
   },
   "outputs": [],
   "source": [
    "BC_PHUSION_FF['cellratio']=(1.0*BC_PHUSION_FF['counts'])/(BC_PHUSION_FF['cell_counts'])"
   ]
  },
  {
   "cell_type": "code",
   "execution_count": null,
   "metadata": {
    "collapsed": false
   },
   "outputs": [],
   "source": [
    "plt.scatter(np.log2(bc_phusion['counts']),bc_phusion['ratio'],alpha=0.3)\n",
    "plt.xlabel('Log2(Total Reads)')\n",
    "plt.ylabel('Fractional Abundance of Its UMI')"
   ]
  },
  {
   "cell_type": "code",
   "execution_count": null,
   "metadata": {
    "collapsed": false
   },
   "outputs": [],
   "source": [
    "plt.scatter(np.log2(BC_PHUSION_FF['counts']),BC_PHUSION_FF['cellratio'],alpha=0.3)\n",
    "plt.xlabel('Log2(Total Reads)')\n",
    "plt.ylabel('Fractional Abundance in the cell')"
   ]
  },
  {
   "cell_type": "code",
   "execution_count": null,
   "metadata": {
    "collapsed": true
   },
   "outputs": [],
   "source": [
    "BC_PHUSION_FF_max=BC_PHUSION_FF.groupby('cbc').max()"
   ]
  },
  {
   "cell_type": "code",
   "execution_count": null,
   "metadata": {
    "collapsed": false
   },
   "outputs": [],
   "source": [
    "BC_PHUSION_FF_max.cellratio.hist()\n",
    "plt.ylabel('Frequency')\n",
    "plt.xlabel('Relative Abundance of Most Abundant Guide')"
   ]
  },
  {
   "cell_type": "code",
   "execution_count": null,
   "metadata": {
    "collapsed": false
   },
   "outputs": [],
   "source": [
    "#plot scatter of abundance per cell\n",
    "grouped_cells = bc_phusion_cells.groupby('cbc').sum()\n",
    "plt.scatter(range(len(grouped_cells)),np.log2(grouped_cells['counts']))\n",
    "plt.xlabel('Matched cells')\n",
    "plt.ylabel('Log2(Reads)')"
   ]
  },
  {
   "cell_type": "code",
   "execution_count": null,
   "metadata": {
    "collapsed": false
   },
   "outputs": [],
   "source": [
    "#filter to \"real guides\" at decent per cell frequency\n",
    "cfq_filt=BC_PHUSION_F['counts']>32\n",
    "bc_phusion_final = BC_PHUSION_F[cfq_filt]\n",
    "\n",
    "guide_count=collections.Counter()\n",
    "guide_count_col=collections.Counter()\n",
    "\n",
    "guide_count.update(bc_phusion_final['guide'])\n",
    "#guide_count_col.update(bc_phusion_final['guide_col'])\n",
    "#likely missequenced guides\n",
    "#print('Likely missequenced ',set(guide_count_col.keys())-set(guide_count.keys()))\n",
    "print(guide_count)\n",
    "\n",
    "cbcdict={}\n",
    "cbcdict_reads={}\n",
    "cbcdict_umi={}\n",
    "curbcs=bc.keys()\n",
    "\n",
    "for cbc in curbcs:\n",
    "    cbcdict[cbc]=collections.Counter()\n",
    "    cbcdict_reads[cbc]=0\n",
    "    cbcdict_umi[cbc]=0\n",
    "\n",
    "for x,y,a in zip(bc_phusion_final['cbc'],bc_phusion_final['guide'],bc_phusion_final['counts']):\n",
    "    cbcdict[x].update([y])\n",
    "\n",
    "#plt.scatter(BC_PHUSION_F['counts'],BC_PHUSION_F['umicount'])\n",
    "#plt.ylabel('UMI')\n",
    "#plt.xlabel('reads')\n",
    "#plt.savefig(outpath+'_UMIvReads_phusion.pdf')\n",
    "#plt.clf()\n",
    "\n",
    "#calculate moi distributions\n",
    "moi_list = []\n",
    "guide_counter_all= collections.Counter()\n",
    "guide_counter_lt5= collections.Counter()\n",
    "guide_counter_moi1= collections.Counter()\n",
    "\n",
    "final_dict_moi1={}\n",
    "final_dict_all={}\n",
    "\n",
    "for cbc in cbcdict.keys():\n",
    "\n",
    "    valid_guides=cbcdict[cbc]\n",
    "\n",
    "    moi_list.append(len(valid_guides))\n",
    "\n",
    "    guide_counter_all.update(valid_guides.keys())\n",
    "\n",
    "    if len(valid_guides)<2:\n",
    "        guide_counter_moi1.update(np.unique(valid_guides.keys()))\n",
    "        final_dict_moi1[cbc]=valid_guides\n",
    "\n",
    "    if len(valid_guides)<20:\n",
    "        final_dict_all[cbc]=valid_guides\n",
    "        guide_counter_lt5.update(valid_guides.keys())\n",
    "\n",
    "print('guide freqs moi1',guide_counter_moi1)"
   ]
  },
  {
   "cell_type": "code",
   "execution_count": null,
   "metadata": {
    "collapsed": false
   },
   "outputs": [],
   "source": [
    "plt.hist(moi_list,np.arange(10)-0.5)\n",
    "plt.xlabel('MOI')\n",
    "plt.ylabel('Frequency')"
   ]
  }
 ],
 "metadata": {
  "kernelspec": {
   "display_name": "mimoscaENV",
   "language": "python",
   "name": "python3"
  },
  "language_info": {
   "codemirror_mode": {
    "name": "ipython",
    "version": 3
   },
   "file_extension": ".py",
   "mimetype": "text/x-python",
   "name": "python",
   "nbconvert_exporter": "python",
   "pygments_lexer": "ipython3",
   "version": "3.7.12"
  }
 },
 "nbformat": 4,
 "nbformat_minor": 0
}
