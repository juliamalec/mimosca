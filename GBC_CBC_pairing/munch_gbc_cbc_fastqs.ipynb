{
 "cells": [
  {
   "cell_type": "code",
   "execution_count": 1,
   "metadata": {
    "collapsed": true
   },
   "outputs": [],
   "source": [
    "%matplotlib inline"
   ]
  },
  {
   "cell_type": "code",
   "execution_count": 2,
   "metadata": {
    "collapsed": false
   },
   "outputs": [],
   "source": [
    "import pandas as pd\n",
    "import numpy.matlib\n",
    "import numpy as np\n",
    "import time\n",
    "import matplotlib.pyplot as plt\n",
    "import glob\n",
    "import seaborn as sns\n",
    "import collections\n",
    "sns.set_context('talk')\n",
    "sns.set_style('white')\n",
    "import os\n",
    "import sys\n",
    "import csv\n",
    "import re"
   ]
  },
  {
   "cell_type": "code",
   "execution_count": 3,
   "metadata": {
    "collapsed": false
   },
   "outputs": [],
   "source": [
    "path2data='CHANGE_THIS'"
   ]
  },
  {
   "cell_type": "code",
   "execution_count": 4,
   "metadata": {
    "collapsed": true
   },
   "outputs": [],
   "source": [
    "R1=pd.read_csv(path2data+'r1.fastq.gz',sep='\\t',header=None)\n",
    "R2=pd.read_csv(path2data+'r2.fastq.gz',sep='\\t',header=None)"
   ]
  },
  {
   "cell_type": "code",
   "execution_count": 5,
   "metadata": {
    "collapsed": false
   },
   "outputs": [],
   "source": [
    "R1_seq=R1[1::4]"
   ]
  },
  {
   "cell_type": "code",
   "execution_count": null,
   "metadata": {
    "collapsed": true
   },
   "outputs": [],
   "source": [
    "R2_seq=R2.ix[1::4]"
   ]
  },
  {
   "cell_type": "code",
   "execution_count": 14,
   "metadata": {
    "collapsed": false
   },
   "outputs": [],
   "source": [
    "cbcs=[re.sub('\\+.*','',re.sub('.*2:N:0:','',x)) for x in R2.ix[0::4][0]]"
   ]
  },
  {
   "cell_type": "code",
   "execution_count": 15,
   "metadata": {
    "collapsed": false
   },
   "outputs": [],
   "source": [
    "R_combined=pd.concat([R1_seq,R2_seq],axis=1)\n",
    "R_combined['CBC']=cbcs"
   ]
  },
  {
   "cell_type": "code",
   "execution_count": 16,
   "metadata": {
    "collapsed": false
   },
   "outputs": [],
   "source": [
    "R_combined.columns=['R1-RNA','R2-UMI','CBC']"
   ]
  },
  {
   "cell_type": "code",
   "execution_count": 17,
   "metadata": {
    "collapsed": false
   },
   "outputs": [],
   "source": [
    "#check for primer sequence\n",
    "checksubstr=['GGCACAAGCTTAATTAAGAATT' in x for x in R_combined['R1-RNA']]"
   ]
  },
  {
   "cell_type": "code",
   "execution_count": 18,
   "metadata": {
    "collapsed": false
   },
   "outputs": [],
   "source": [
    "R_matching=R_combined[checksubstr]"
   ]
  },
  {
   "cell_type": "code",
   "execution_count": null,
   "metadata": {
    "collapsed": true
   },
   "outputs": [],
   "source": [
    "R_matching['RNA-CBC-UMI']=[x+'-'+y+'-'+z for x,y,z in zip(R_matching['R1-RNA'],R_matching['CBC'],R_matching['R2-UMI'])]"
   ]
  },
  {
   "cell_type": "code",
   "execution_count": 25,
   "metadata": {
    "collapsed": false
   },
   "outputs": [
    {
     "data": {
      "text/html": [
       "<div>\n",
       "<table border=\"1\" class=\"dataframe\">\n",
       "  <thead>\n",
       "    <tr style=\"text-align: right;\">\n",
       "      <th></th>\n",
       "      <th>R1-RNA</th>\n",
       "      <th>R2-UMI</th>\n",
       "      <th>CBC</th>\n",
       "      <th>RNA-CBC</th>\n",
       "      <th>RNA-CBC-UMI</th>\n",
       "    </tr>\n",
       "  </thead>\n",
       "  <tbody>\n",
       "    <tr>\n",
       "      <th>189</th>\n",
       "      <td>GGCAAACTGGGGCACAAGCTTAATTAAGAATTTTCNCTACNNGCTA...</td>\n",
       "      <td>AGAAACTTAT</td>\n",
       "      <td>AGATCGTGTGCTCC</td>\n",
       "      <td>GGCAAACTGGGGCACAAGCTTAATTAAGAATTTTCNCTACNNGCTA...</td>\n",
       "      <td>GGCAAACTGGGGCACAAGCTTAATTAAGAATTTTCNCTACNNGCTA...</td>\n",
       "    </tr>\n",
       "    <tr>\n",
       "      <th>193</th>\n",
       "      <td>AGCAAACTGGGGCACAAGCTTAATTAAGAATTGCCAGGATNNACAA...</td>\n",
       "      <td>ATGCTGTCAC</td>\n",
       "      <td>GGACAACTACGCAT</td>\n",
       "      <td>AGCAAACTGGGGCACAAGCTTAATTAAGAATTGCCAGGATNNACAA...</td>\n",
       "      <td>AGCAAACTGGGGCACAAGCTTAATTAAGAATTGCCAGGATNNACAA...</td>\n",
       "    </tr>\n",
       "    <tr>\n",
       "      <th>245</th>\n",
       "      <td>AGCAAACTGGGGCACAAGCTTAATTAAGAATTCTAGACTCNNACAC...</td>\n",
       "      <td>ATGCTACCCA</td>\n",
       "      <td>AACTATCCTCTAGC</td>\n",
       "      <td>AGCAAACTGGGGCACAAGCTTAATTAAGAATTCTAGACTCNNACAC...</td>\n",
       "      <td>AGCAAACTGGGGCACAAGCTTAATTAAGAATTCTAGACTCNNACAC...</td>\n",
       "    </tr>\n",
       "    <tr>\n",
       "      <th>273</th>\n",
       "      <td>AGCAAACTGGGGCACAAGCTTAATTAAGAATTGTTGACCTNNTCAG...</td>\n",
       "      <td>TAGCATGAGA</td>\n",
       "      <td>CATGGCCTTGAGAA</td>\n",
       "      <td>AGCAAACTGGGGCACAAGCTTAATTAAGAATTGTTGACCTNNTCAG...</td>\n",
       "      <td>AGCAAACTGGGGCACAAGCTTAATTAAGAATTGTTGACCTNNTCAG...</td>\n",
       "    </tr>\n",
       "    <tr>\n",
       "      <th>285</th>\n",
       "      <td>AGCAAACTGGGGCACAAGCTTAATTAAGAATTAGGGCTTGNAGTGC...</td>\n",
       "      <td>TAACTACCCT</td>\n",
       "      <td>TTTCAGTGAGTTCG</td>\n",
       "      <td>AGCAAACTGGGGCACAAGCTTAATTAAGAATTAGGGCTTGNAGTGC...</td>\n",
       "      <td>AGCAAACTGGGGCACAAGCTTAATTAAGAATTAGGGCTTGNAGTGC...</td>\n",
       "    </tr>\n",
       "  </tbody>\n",
       "</table>\n",
       "</div>"
      ],
      "text/plain": [
       "                                                R1-RNA      R2-UMI  \\\n",
       "189  GGCAAACTGGGGCACAAGCTTAATTAAGAATTTTCNCTACNNGCTA...  AGAAACTTAT   \n",
       "193  AGCAAACTGGGGCACAAGCTTAATTAAGAATTGCCAGGATNNACAA...  ATGCTGTCAC   \n",
       "245  AGCAAACTGGGGCACAAGCTTAATTAAGAATTCTAGACTCNNACAC...  ATGCTACCCA   \n",
       "273  AGCAAACTGGGGCACAAGCTTAATTAAGAATTGTTGACCTNNTCAG...  TAGCATGAGA   \n",
       "285  AGCAAACTGGGGCACAAGCTTAATTAAGAATTAGGGCTTGNAGTGC...  TAACTACCCT   \n",
       "\n",
       "                CBC                                            RNA-CBC  \\\n",
       "189  AGATCGTGTGCTCC  GGCAAACTGGGGCACAAGCTTAATTAAGAATTTTCNCTACNNGCTA...   \n",
       "193  GGACAACTACGCAT  AGCAAACTGGGGCACAAGCTTAATTAAGAATTGCCAGGATNNACAA...   \n",
       "245  AACTATCCTCTAGC  AGCAAACTGGGGCACAAGCTTAATTAAGAATTCTAGACTCNNACAC...   \n",
       "273  CATGGCCTTGAGAA  AGCAAACTGGGGCACAAGCTTAATTAAGAATTGTTGACCTNNTCAG...   \n",
       "285  TTTCAGTGAGTTCG  AGCAAACTGGGGCACAAGCTTAATTAAGAATTAGGGCTTGNAGTGC...   \n",
       "\n",
       "                                           RNA-CBC-UMI  \n",
       "189  GGCAAACTGGGGCACAAGCTTAATTAAGAATTTTCNCTACNNGCTA...  \n",
       "193  AGCAAACTGGGGCACAAGCTTAATTAAGAATTGCCAGGATNNACAA...  \n",
       "245  AGCAAACTGGGGCACAAGCTTAATTAAGAATTCTAGACTCNNACAC...  \n",
       "273  AGCAAACTGGGGCACAAGCTTAATTAAGAATTGTTGACCTNNTCAG...  \n",
       "285  AGCAAACTGGGGCACAAGCTTAATTAAGAATTAGGGCTTGNAGTGC...  "
      ]
     },
     "execution_count": 25,
     "metadata": {},
     "output_type": "execute_result"
    }
   ],
   "source": [
    "R_matching.head()"
   ]
  },
  {
   "cell_type": "code",
   "execution_count": null,
   "metadata": {
    "collapsed": true
   },
   "outputs": [],
   "source": [
    "R_matching['counts']=[1]*len(R_matching)"
   ]
  },
  {
   "cell_type": "code",
   "execution_count": 27,
   "metadata": {
    "collapsed": false
   },
   "outputs": [],
   "source": [
    "R_grouped=R_matching.groupby('RNA-CBC-UMI').sum()"
   ]
  },
  {
   "cell_type": "code",
   "execution_count": 28,
   "metadata": {
    "collapsed": false
   },
   "outputs": [
    {
     "data": {
      "text/html": [
       "<div>\n",
       "<table border=\"1\" class=\"dataframe\">\n",
       "  <thead>\n",
       "    <tr style=\"text-align: right;\">\n",
       "      <th></th>\n",
       "      <th>counts</th>\n",
       "    </tr>\n",
       "    <tr>\n",
       "      <th>RNA-CBC-UMI</th>\n",
       "      <th></th>\n",
       "    </tr>\n",
       "  </thead>\n",
       "  <tbody>\n",
       "    <tr>\n",
       "      <th>AGCAAACTGGGGCACAAGCTTAATTAAGAATTTGGCGCGCAGATTTGCGGCCTAG-GGGGGGGGGGGGGG-GGGGGGGGGG</th>\n",
       "      <td>2</td>\n",
       "    </tr>\n",
       "    <tr>\n",
       "      <th>AGCAAACTGGGGCACAAGCTTAATTAAGAATTGTATAACTGATCAGCAGACCTAG-TGCAACGATGAGAA-TGGTGCCGGA</th>\n",
       "      <td>2</td>\n",
       "    </tr>\n",
       "    <tr>\n",
       "      <th>AGCAAACTGGGGCACAAGCTTAATTAAGAATTTGGCGCGCAGATTTGCGGCCTAG-CGCTAAGATGGATC-CCGTTCAACC</th>\n",
       "      <td>2</td>\n",
       "    </tr>\n",
       "    <tr>\n",
       "      <th>AGCAAACTGGGGCACAAGCTTAATTAAGAATTGCCAGGATGTACAAACTGCCTAG-ACCCAGCTAAGATG-CGCGTACCAT</th>\n",
       "      <td>2</td>\n",
       "    </tr>\n",
       "    <tr>\n",
       "      <th>AGCAAACTGGGGCACAAGCTTAATTAAGAATTGGTGTCGTTCCGAGAGCGCCTAG-GGGGGGGGGGGGGG-GGGGGGGGGG</th>\n",
       "      <td>2</td>\n",
       "    </tr>\n",
       "    <tr>\n",
       "      <th>AGCAAACTGGGGCACAAGCTTAATTAAGAATTGGCTGAAGACCTTAAACGCCTAG-AGCCGTCTATTTCC-ACCCCAGGCA</th>\n",
       "      <td>2</td>\n",
       "    </tr>\n",
       "    <tr>\n",
       "      <th>AGCAAACTGGGGCACAAGCTTAATTAAGAATTGTATAACTGATCAGCAGACCTAG-GAGCTCCTCCCTAC-ACAACGGGCA</th>\n",
       "      <td>2</td>\n",
       "    </tr>\n",
       "    <tr>\n",
       "      <th>AGCAAACTGGGGCACAAGCTTAATTAAGAATTGGCTGAAGACCTTAAACGCCTAG-AGGACTTGCCCTCA-ATGGCTCTAT</th>\n",
       "      <td>2</td>\n",
       "    </tr>\n",
       "    <tr>\n",
       "      <th>AGCAAACTGGGGCACAAGCTTAATTAAGAATTTTGAACATTAACGGAACGCCTAG-GCCATGCTTCTGGA-GATGTTCTAA</th>\n",
       "      <td>2</td>\n",
       "    </tr>\n",
       "    <tr>\n",
       "      <th>AGCAAACTGGGGCACAAGCTTAATTAAGAATTCTAACTCAGCGACTGGAGCCTAG-AACCTACTCGTACA-GACCGGCTAG</th>\n",
       "      <td>2</td>\n",
       "    </tr>\n",
       "    <tr>\n",
       "      <th>AGCAAACTGGGGCACAAGCTTAATTAAGAATTGAAACTCTCCCGCCTGACCCTAG-ATTCGGGATGGTCA-GGTTATCCCT</th>\n",
       "      <td>2</td>\n",
       "    </tr>\n",
       "    <tr>\n",
       "      <th>AGCAAACTGGGGCACAAGCTTAATTAAGAATTTTCGCTACCTGCTACCCGCCTAG-TAACCGGAACACTG-ACCCCATCCA</th>\n",
       "      <td>2</td>\n",
       "    </tr>\n",
       "    <tr>\n",
       "      <th>AGCAAACTGGGGCACAAGCTTAATTAAGAATTGGCTGAAGACCTTAAACGCCTAG-TTGGTACTACTCTT-CATGCCAACA</th>\n",
       "      <td>2</td>\n",
       "    </tr>\n",
       "    <tr>\n",
       "      <th>AGCAAACTGGGGCACAAGCTTAATTAAGAATTCGAGCGGTCGGCACTCGGCCTAG-AAGATGGAAAGTAG-ATCCCGTCAT</th>\n",
       "      <td>2</td>\n",
       "    </tr>\n",
       "    <tr>\n",
       "      <th>AGCAAACTGGGGCACAAGCTTAATTAAGAATTGGCTGAAGACCTTAAACGCCTAG-CAGTCAGATCTATC-TCCCGTCACT</th>\n",
       "      <td>2</td>\n",
       "    </tr>\n",
       "    <tr>\n",
       "      <th>AGCAAACTGGGGCACAAGCTTAATTAAGAATTTAAACACATGCATTTCACCCTAG-CAAGGACTCTGGTA-CACTTCGCTC</th>\n",
       "      <td>2</td>\n",
       "    </tr>\n",
       "    <tr>\n",
       "      <th>AGCAAACTGGGGCACAAGCTTAATTAAGAATTGGTGTCGTTCCGAGAGCGCCTAG-TACTACACAGCACT-TCACAATCCC</th>\n",
       "      <td>2</td>\n",
       "    </tr>\n",
       "    <tr>\n",
       "      <th>AGCAAACTGGGGCACAAGCTTAATTAAGAATTCTACCAAAATCCTTTCCGCCTAG-ATCTGTTGGCTGTA-TGCACCCAGG</th>\n",
       "      <td>2</td>\n",
       "    </tr>\n",
       "    <tr>\n",
       "      <th>AGCAAACTGGGGCACAAGCTTAATTAAGAATTGCCAGGATGTACAAACTGCCTAG-AGATCTCTAGTCTG-GACAAGCCCG</th>\n",
       "      <td>2</td>\n",
       "    </tr>\n",
       "    <tr>\n",
       "      <th>AGCAAACTGGGGCACAAGCTTAATTAAGAATTACACGCAAGCTTTGCTGCCTAGA-AGCGGGCTGGTTCA-GCCATTAACG</th>\n",
       "      <td>2</td>\n",
       "    </tr>\n",
       "  </tbody>\n",
       "</table>\n",
       "</div>"
      ],
      "text/plain": [
       "                                                    counts\n",
       "RNA-CBC-UMI                                               \n",
       "AGCAAACTGGGGCACAAGCTTAATTAAGAATTTGGCGCGCAGATTTG...       2\n",
       "AGCAAACTGGGGCACAAGCTTAATTAAGAATTGTATAACTGATCAGC...       2\n",
       "AGCAAACTGGGGCACAAGCTTAATTAAGAATTTGGCGCGCAGATTTG...       2\n",
       "AGCAAACTGGGGCACAAGCTTAATTAAGAATTGCCAGGATGTACAAA...       2\n",
       "AGCAAACTGGGGCACAAGCTTAATTAAGAATTGGTGTCGTTCCGAGA...       2\n",
       "AGCAAACTGGGGCACAAGCTTAATTAAGAATTGGCTGAAGACCTTAA...       2\n",
       "AGCAAACTGGGGCACAAGCTTAATTAAGAATTGTATAACTGATCAGC...       2\n",
       "AGCAAACTGGGGCACAAGCTTAATTAAGAATTGGCTGAAGACCTTAA...       2\n",
       "AGCAAACTGGGGCACAAGCTTAATTAAGAATTTTGAACATTAACGGA...       2\n",
       "AGCAAACTGGGGCACAAGCTTAATTAAGAATTCTAACTCAGCGACTG...       2\n",
       "AGCAAACTGGGGCACAAGCTTAATTAAGAATTGAAACTCTCCCGCCT...       2\n",
       "AGCAAACTGGGGCACAAGCTTAATTAAGAATTTTCGCTACCTGCTAC...       2\n",
       "AGCAAACTGGGGCACAAGCTTAATTAAGAATTGGCTGAAGACCTTAA...       2\n",
       "AGCAAACTGGGGCACAAGCTTAATTAAGAATTCGAGCGGTCGGCACT...       2\n",
       "AGCAAACTGGGGCACAAGCTTAATTAAGAATTGGCTGAAGACCTTAA...       2\n",
       "AGCAAACTGGGGCACAAGCTTAATTAAGAATTTAAACACATGCATTT...       2\n",
       "AGCAAACTGGGGCACAAGCTTAATTAAGAATTGGTGTCGTTCCGAGA...       2\n",
       "AGCAAACTGGGGCACAAGCTTAATTAAGAATTCTACCAAAATCCTTT...       2\n",
       "AGCAAACTGGGGCACAAGCTTAATTAAGAATTGCCAGGATGTACAAA...       2\n",
       "AGCAAACTGGGGCACAAGCTTAATTAAGAATTACACGCAAGCTTTGC...       2"
      ]
     },
     "execution_count": 28,
     "metadata": {},
     "output_type": "execute_result"
    }
   ],
   "source": [
    "R_grouped.sort_values('counts',ascending=False).head(20)"
   ]
  },
  {
   "cell_type": "markdown",
   "metadata": {},
   "source": [
    "Note we typically do observe a polyG in the cell barcode in some cases when we sequence on the NextSeq  (often the most abundant as seen here). However they are typically a small fraction of the entire run."
   ]
  },
  {
   "cell_type": "code",
   "execution_count": 29,
   "metadata": {
    "collapsed": true
   },
   "outputs": [],
   "source": [
    "R_grouped.to_csv(path2data+'munched_counts.txt',sep='\\t')"
   ]
  }
 ],
 "metadata": {
  "kernelspec": {
   "display_name": "mimoscaENV",
   "language": "python",
   "name": "python3"
  },
  "language_info": {
   "codemirror_mode": {
    "name": "ipython",
    "version": 3
   },
   "file_extension": ".py",
   "mimetype": "text/x-python",
   "name": "python",
   "nbconvert_exporter": "python",
   "pygments_lexer": "ipython3",
   "version": "3.7.12"
  }
 },
 "nbformat": 4,
 "nbformat_minor": 0
}
