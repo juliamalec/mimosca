{
 "cells": [
  {
   "cell_type": "code",
   "execution_count": 1,
   "metadata": {
    "collapsed": false
   },
   "outputs": [],
   "source": [
    "%matplotlib inline\n",
    "import numpy as np\n",
    "import matplotlib.pyplot as plt\n",
    "import pandas as pd\n",
    "import scipy\n",
    "from scipy import misc\n",
    "import scipy.stats\n",
    "from scipy.optimize import minimize"
   ]
  },
  {
   "cell_type": "code",
   "execution_count": 150,
   "metadata": {
    "collapsed": true
   },
   "outputs": [],
   "source": [
    "#number of perturbations\n",
    "n_perturbs=1000\n",
    "signatures=True # True=only signature level information desired, False=gene level information desired\n",
    "\n",
    "#rough factor describing the fold change in representation between the 90th and 10th percentile of perturbations\n",
    "fc_90_10=6 #default 6-fold, Wang 2013 \n",
    "\n",
    "#stringency (the minimum percentile you would like to reasonably represent)\n",
    "stringency=0.1 #default 10th percentile"
   ]
  },
  {
   "cell_type": "code",
   "execution_count": 151,
   "metadata": {
    "collapsed": true
   },
   "outputs": [],
   "source": [
    "#rough approximation of scale required for individual gene differential expression\n",
    "scale_factor=100\n",
    "\n",
    "if signatures:\n",
    "    #or signature level differential expression\n",
    "    scale_factor=10"
   ]
  },
  {
   "cell_type": "code",
   "execution_count": 152,
   "metadata": {
    "collapsed": false
   },
   "outputs": [
    {
     "name": "stdout",
     "output_type": "stream",
     "text": [
      "Optimization terminated successfully.\n",
      "         Current function value: 0.000000\n",
      "         Iterations: 84\n",
      "         Function evaluations: 167\n"
     ]
    }
   ],
   "source": [
    "#representation factor, search for location and scale of normal distribution to determine parameters satisfying minimum representation and distribution width\n",
    "\n",
    "x0 = np.array([fc_90_10*scale_factor,scale_factor])\n",
    "\n",
    "def optimize_normal_cdf(x):\n",
    "    fc10_90=scipy.stats.norm.ppf([.1,.9],loc=x[0],scale=x[1])\n",
    "    ratio90_10=np.divide(fc10_90[1],fc10_90[0])\n",
    "    mincells=scipy.stats.norm.ppf([stringency],loc=x[0],scale=x[1])[0]\n",
    "    return np.power(ratio90_10-fc_90_10,2)+np.power(mincells-scale_factor,2)\n",
    "\n",
    "res = minimize(optimize_normal_cdf, x0, method='nelder-mead',options={'xtol': 1e-8, 'disp': True})"
   ]
  },
  {
   "cell_type": "code",
   "execution_count": 153,
   "metadata": {
    "collapsed": true
   },
   "outputs": [],
   "source": [
    "lf,sf=res.final_simplex[0][0]"
   ]
  },
  {
   "cell_type": "code",
   "execution_count": 154,
   "metadata": {
    "collapsed": true
   },
   "outputs": [],
   "source": [
    "pltmin,pltmax=scipy.stats.norm.ppf([0.05,0.95],loc=lf,scale=sf)"
   ]
  },
  {
   "cell_type": "code",
   "execution_count": 155,
   "metadata": {
    "collapsed": true
   },
   "outputs": [],
   "source": [
    "ecdf=scipy.stats.norm.cdf(np.arange(pltmin,pltmax),loc=lf,scale=sf)"
   ]
  },
  {
   "cell_type": "code",
   "execution_count": 156,
   "metadata": {
    "collapsed": false
   },
   "outputs": [
    {
     "name": "stdout",
     "output_type": "stream",
     "text": [
      "Roughly 35000 Total Cells Required\n"
     ]
    },
    {
     "data": {
      "image/png": "[encoded data removed]",
      "text/plain": [
       "<matplotlib.figure.Figure at 0x10c999710>"
      ]
     },
     "metadata": {},
     "output_type": "display_data"
    }
   ],
   "source": [
    "#plot CDF of cells per perturbation\n",
    "plt.plot(ecdf)\n",
    "plt.axhline(0.1,c='black')\n",
    "plt.axhline(0.9,c='black')\n",
    "plt.xlabel('Cells Per Perturbation')\n",
    "plt.ylabel('Cumulative Probability')\n",
    "\n",
    "total_cells=lf*n_perturbs\n",
    "print('Roughly '+str(int(np.round(total_cells)))+' Total Cells Required')"
   ]
  }
 ],
 "metadata": {
  "kernelspec": {
   "display_name": "mimoscaENV",
   "language": "python",
   "name": "python3"
  },
  "language_info": {
   "codemirror_mode": {
    "name": "ipython",
    "version": 3
   },
   "file_extension": ".py",
   "mimetype": "text/x-python",
   "name": "python",
   "nbconvert_exporter": "python",
   "pygments_lexer": "ipython3",
   "version": "3.7.12"
  }
 },
 "nbformat": 4,
 "nbformat_minor": 0
}
