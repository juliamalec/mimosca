{
 "cells": [
  {
   "cell_type": "code",
   "execution_count": 1,
   "metadata": {
    "collapsed": false
   },
   "outputs": [],
   "source": [
    "#this notebook shows an example of the cell state classifier, that was defined on wildtype and control cells\n",
    "#this following is a command used in Jupyter notebooks to display Matplotlib plots inline within the notebook\n",
    "%matplotlib inline "
   ]
  },
  {
   "cell_type": "code",
   "execution_count": 2,
   "metadata": {
    "collapsed": true
   },
   "outputs": [],
   "source": [
    "import sys #module that provides access to some variables used or maintaied by the interpreter\n",
    "import numpy as np #import the numpy module and give it the alias np\n",
    "import pandas as pd #import the pandas module and give it the alias pd\n",
    "import seaborn as sns #import the seaborn module and give it the alias sns\n",
    "import statsmodels \n",
    "import sklearn \n",
    "import matplotlib.pyplot as plt #import the pyplot module (from matplotlib) and give it the alias plt. The pyplot sub-module provides a convenient interface for creating plots and charts\n",
    "\n",
    "sys.path.append('/home/jmalec/repo/coin_seq/MIMOSCA-2') #inside the single quotes add the path to the 'mimosca.py' file' an easy way to get the path is to go into the folder with the file and used the 'pwd' command in the terminal\n",
    "import mimosca as mimosca"
   ]
  },
  {
   "cell_type": "code",
   "execution_count": 4,
   "metadata": {
    "collapsed": true
   },
   "outputs": [],
   "source": [
    "#the following line of code reads in a gene expression matrix in 10x format from the directory inside ' ' \n",
    "#DGE1 is a pandas.DataFrame object containing the gene expression data\n",
    "#the read_10x() function is commonly used to read gene expression data from 10x Genomics output files\n",
    "#IMPORTANT NOTE: when the repo is first cloned from GitHub the mm10 folder is a zip folder and needs to be unzipped \n",
    "DGE1=mimosca.read_10x('/home/jmalec/repo/coin_seq/MIMOSCA-2/Cell_States/mm10/')\n",
    "\n",
    "#the following line of code collapses the 'DGE1' matrix to gene-level counts using the collapse2Gene method found in the mimosca module \n",
    "#DGE_genes is also a pandas.DataFrame but now instead of the original transcript-level counts, it has gene-level counts\n",
    "#transcript-level counts are often measured using RNA sequencing, and count the abundance of individual RNA transcripts\n",
    "#gene level counts represent the total abundance of all transcripts produced by a particular gene\n",
    "DGE_genes=mimosca.collapse2gene(DGE1)"
   ]
  },
  {
   "cell_type": "code",
   "execution_count": 5,
   "metadata": {
    "collapsed": false
   },
   "outputs": [
    {
     "data": {
      "text/html": [
       "<div>\n",
       "<style scoped>\n",
       "    .dataframe tbody tr th:only-of-type {\n",
       "        vertical-align: middle;\n",
       "    }\n",
       "\n",
       "    .dataframe tbody tr th {\n",
       "        vertical-align: top;\n",
       "    }\n",
       "\n",
       "    .dataframe thead th {\n",
       "        text-align: right;\n",
       "    }\n",
       "</style>\n",
       "<table border=\"1\" class=\"dataframe\">\n",
       "  <thead>\n",
       "    <tr style=\"text-align: right;\">\n",
       "      <th></th>\n",
       "      <th>AAACATTGACTACG</th>\n",
       "      <th>AAACGCACCGTTAG</th>\n",
       "      <th>AAACGCTGACGGTT</th>\n",
       "      <th>AAACGCTGTCTCGC</th>\n",
       "      <th>AAACGGCTCGAATC</th>\n",
       "      <th>AAAGATCTACCCAA</th>\n",
       "      <th>AAAGCCTGAACCTG</th>\n",
       "      <th>AAAGCCTGCTCTTA</th>\n",
       "      <th>AAAGCCTGTCACGA</th>\n",
       "      <th>AAAGTTTGTTCTAC</th>\n",
       "      <th>...</th>\n",
       "      <th>TTGTCATGTCTCGC</th>\n",
       "      <th>TTTAGCTGAGCAAA</th>\n",
       "      <th>TTTAGCTGCATTCT</th>\n",
       "      <th>TTTCACGACACCAA</th>\n",
       "      <th>TTTCACGACTCTCG</th>\n",
       "      <th>TTTCAGTGAGCAAA</th>\n",
       "      <th>TTTCAGTGGCGATT</th>\n",
       "      <th>TTTCAGTGTGCAGT</th>\n",
       "      <th>TTTCCAGAATGGTC</th>\n",
       "      <th>TTTCTACTTGACCA</th>\n",
       "    </tr>\n",
       "  </thead>\n",
       "  <tbody>\n",
       "    <tr>\n",
       "      <th>0610007P14Rik</th>\n",
       "      <td>0.0</td>\n",
       "      <td>0.0</td>\n",
       "      <td>0.0</td>\n",
       "      <td>0.0</td>\n",
       "      <td>0.0</td>\n",
       "      <td>0.0</td>\n",
       "      <td>0.0</td>\n",
       "      <td>0.0</td>\n",
       "      <td>0.0</td>\n",
       "      <td>0.0</td>\n",
       "      <td>...</td>\n",
       "      <td>0.0</td>\n",
       "      <td>0.0</td>\n",
       "      <td>0.0</td>\n",
       "      <td>0.0</td>\n",
       "      <td>0.0</td>\n",
       "      <td>0.0</td>\n",
       "      <td>0.0</td>\n",
       "      <td>1.0</td>\n",
       "      <td>0.0</td>\n",
       "      <td>0.0</td>\n",
       "    </tr>\n",
       "    <tr>\n",
       "      <th>0610009B22Rik</th>\n",
       "      <td>0.0</td>\n",
       "      <td>0.0</td>\n",
       "      <td>0.0</td>\n",
       "      <td>0.0</td>\n",
       "      <td>0.0</td>\n",
       "      <td>0.0</td>\n",
       "      <td>0.0</td>\n",
       "      <td>0.0</td>\n",
       "      <td>0.0</td>\n",
       "      <td>0.0</td>\n",
       "      <td>...</td>\n",
       "      <td>1.0</td>\n",
       "      <td>0.0</td>\n",
       "      <td>0.0</td>\n",
       "      <td>0.0</td>\n",
       "      <td>0.0</td>\n",
       "      <td>0.0</td>\n",
       "      <td>0.0</td>\n",
       "      <td>0.0</td>\n",
       "      <td>0.0</td>\n",
       "      <td>0.0</td>\n",
       "    </tr>\n",
       "    <tr>\n",
       "      <th>0610009L18Rik</th>\n",
       "      <td>0.0</td>\n",
       "      <td>0.0</td>\n",
       "      <td>0.0</td>\n",
       "      <td>0.0</td>\n",
       "      <td>0.0</td>\n",
       "      <td>0.0</td>\n",
       "      <td>0.0</td>\n",
       "      <td>0.0</td>\n",
       "      <td>0.0</td>\n",
       "      <td>0.0</td>\n",
       "      <td>...</td>\n",
       "      <td>0.0</td>\n",
       "      <td>0.0</td>\n",
       "      <td>0.0</td>\n",
       "      <td>0.0</td>\n",
       "      <td>0.0</td>\n",
       "      <td>0.0</td>\n",
       "      <td>0.0</td>\n",
       "      <td>0.0</td>\n",
       "      <td>0.0</td>\n",
       "      <td>0.0</td>\n",
       "    </tr>\n",
       "    <tr>\n",
       "      <th>0610009O20Rik</th>\n",
       "      <td>0.0</td>\n",
       "      <td>0.0</td>\n",
       "      <td>0.0</td>\n",
       "      <td>0.0</td>\n",
       "      <td>0.0</td>\n",
       "      <td>0.0</td>\n",
       "      <td>0.0</td>\n",
       "      <td>0.0</td>\n",
       "      <td>0.0</td>\n",
       "      <td>0.0</td>\n",
       "      <td>...</td>\n",
       "      <td>0.0</td>\n",
       "      <td>0.0</td>\n",
       "      <td>0.0</td>\n",
       "      <td>0.0</td>\n",
       "      <td>0.0</td>\n",
       "      <td>0.0</td>\n",
       "      <td>0.0</td>\n",
       "      <td>0.0</td>\n",
       "      <td>0.0</td>\n",
       "      <td>0.0</td>\n",
       "    </tr>\n",
       "    <tr>\n",
       "      <th>0610010F05Rik</th>\n",
       "      <td>0.0</td>\n",
       "      <td>0.0</td>\n",
       "      <td>0.0</td>\n",
       "      <td>0.0</td>\n",
       "      <td>0.0</td>\n",
       "      <td>0.0</td>\n",
       "      <td>0.0</td>\n",
       "      <td>0.0</td>\n",
       "      <td>0.0</td>\n",
       "      <td>0.0</td>\n",
       "      <td>...</td>\n",
       "      <td>0.0</td>\n",
       "      <td>0.0</td>\n",
       "      <td>0.0</td>\n",
       "      <td>0.0</td>\n",
       "      <td>0.0</td>\n",
       "      <td>0.0</td>\n",
       "      <td>0.0</td>\n",
       "      <td>0.0</td>\n",
       "      <td>0.0</td>\n",
       "      <td>0.0</td>\n",
       "    </tr>\n",
       "  </tbody>\n",
       "</table>\n",
       "<p>5 rows × 1310 columns</p>\n",
       "</div>"
      ],
      "text/plain": [
       "               AAACATTGACTACG  AAACGCACCGTTAG  AAACGCTGACGGTT  AAACGCTGTCTCGC  \\\n",
       "0610007P14Rik             0.0             0.0             0.0             0.0   \n",
       "0610009B22Rik             0.0             0.0             0.0             0.0   \n",
       "0610009L18Rik             0.0             0.0             0.0             0.0   \n",
       "0610009O20Rik             0.0             0.0             0.0             0.0   \n",
       "0610010F05Rik             0.0             0.0             0.0             0.0   \n",
       "\n",
       "               AAACGGCTCGAATC  AAAGATCTACCCAA  AAAGCCTGAACCTG  AAAGCCTGCTCTTA  \\\n",
       "0610007P14Rik             0.0             0.0             0.0             0.0   \n",
       "0610009B22Rik             0.0             0.0             0.0             0.0   \n",
       "0610009L18Rik             0.0             0.0             0.0             0.0   \n",
       "0610009O20Rik             0.0             0.0             0.0             0.0   \n",
       "0610010F05Rik             0.0             0.0             0.0             0.0   \n",
       "\n",
       "               AAAGCCTGTCACGA  AAAGTTTGTTCTAC  ...  TTGTCATGTCTCGC  \\\n",
       "0610007P14Rik             0.0             0.0  ...             0.0   \n",
       "0610009B22Rik             0.0             0.0  ...             1.0   \n",
       "0610009L18Rik             0.0             0.0  ...             0.0   \n",
       "0610009O20Rik             0.0             0.0  ...             0.0   \n",
       "0610010F05Rik             0.0             0.0  ...             0.0   \n",
       "\n",
       "               TTTAGCTGAGCAAA  TTTAGCTGCATTCT  TTTCACGACACCAA  TTTCACGACTCTCG  \\\n",
       "0610007P14Rik             0.0             0.0             0.0             0.0   \n",
       "0610009B22Rik             0.0             0.0             0.0             0.0   \n",
       "0610009L18Rik             0.0             0.0             0.0             0.0   \n",
       "0610009O20Rik             0.0             0.0             0.0             0.0   \n",
       "0610010F05Rik             0.0             0.0             0.0             0.0   \n",
       "\n",
       "               TTTCAGTGAGCAAA  TTTCAGTGGCGATT  TTTCAGTGTGCAGT  TTTCCAGAATGGTC  \\\n",
       "0610007P14Rik             0.0             0.0             1.0             0.0   \n",
       "0610009B22Rik             0.0             0.0             0.0             0.0   \n",
       "0610009L18Rik             0.0             0.0             0.0             0.0   \n",
       "0610009O20Rik             0.0             0.0             0.0             0.0   \n",
       "0610010F05Rik             0.0             0.0             0.0             0.0   \n",
       "\n",
       "               TTTCTACTTGACCA  \n",
       "0610007P14Rik             0.0  \n",
       "0610009B22Rik             0.0  \n",
       "0610009L18Rik             0.0  \n",
       "0610009O20Rik             0.0  \n",
       "0610010F05Rik             0.0  \n",
       "\n",
       "[5 rows x 1310 columns]"
      ]
     },
     "execution_count": 5,
     "metadata": {},
     "output_type": "execute_result"
    }
   ],
   "source": [
    "#the head method is from the Pandas package to show the first (default 5) rows of data from a DataFrame\n",
    "#the rows represent genes from the mouse genome\n",
    "DGE_genes.head()"
   ]
  },
  {
   "cell_type": "code",
   "execution_count": 6,
   "metadata": {
    "collapsed": false
   },
   "outputs": [],
   "source": [
    "#select variable genes\n",
    "#the following line of code defines which gene names should be highlighted in the plot. This allows for a focus on specific genes of interest\n",
    "highlight=['Tnf','Il6','Rsad2','Cxcl10']\n",
    "\n",
    "#the tp10k_transform method (from the mimosca.py file) is called on the gene level count data frame from above\n",
    "#mathematical transformation on gene expression data is applied to improve its suitability for downstream analysis. In this case the TP10K transformation method is used\n",
    "#this normalization technique accounts for differences in gene length between samples \n",
    "#after this, the log2-transformed mean expression value for each gene in the DGE_genes data frame is calculated \n",
    "#the purpose of this is to obtain a measure of the overall expression level of each gene, as well as make the expression values more symmetrically distributed \n",
    "#the fano factor (which is a statistical measure of the variability of gene expression counts) is calculated \n",
    "#this input_mean parameter specifies the mean expression values calculated previously\n",
    "#the resthresh and meanthresh parameters set the significant thresholds for the Fano factor and mean expression\n",
    "#the highlight_genes parameter is used to display the genes specified in the previous list\n",
    "#the plot parameter is used to display the plot on the screen\n",
    "#in the plot that is generated, the x-axis represents the log2-transformed mean expression value of each gene, and the y-axis represents the fano factor\n",
    "#the fano factor is calculated as the variance of the gene expression counts divided by the mean expression count\n",
    "#the blue points represent genes that pass the significance threshold for mean expression level set by 'meanthresh' and these genes are considered to have high expression levels that are likely to be biologically relevant \n",
    "#the red points represent genes that pass the significance threshold for residual variance set by 'resthresh' and these genes are considered to have high variability in expression levels \n",
    "var_genes=mimosca.fano_variable(mimosca.tp10k_transform(DGE_genes),input_mean=np.log2(DGE_genes.mean(axis=1)+1),resthresh=0.02,meanthresh=0.5,highlight_genes=highlight,plot=1)\n",
    "\n",
    "#these_genes is used to store the names of genes with significant residual variance or mean expression values \n",
    "these_genes=var_genes[np.logical_or(var_genes['residuals']>0.01,var_genes['mean']>2)].index"
   ]
  },
  {
   "cell_type": "code",
   "execution_count": 7,
   "metadata": {
    "collapsed": true
   },
   "outputs": [],
   "source": [
    "#Subset to variable genes\n",
    "#the selected these_genes rows from the orignal dataframe are assigned to the new variable 'DGE_wt'\n",
    "#this creates a new gene expression dataset\n",
    "DGE_wt = DGE_genes.loc[these_genes]"
   ]
  },
  {
   "cell_type": "code",
   "execution_count": 8,
   "metadata": {
    "collapsed": false
   },
   "outputs": [],
   "source": [
    "#Z normalize Genes\n",
    "#this line of code is used to standardize the preiviously selected data\n",
    "#the tp10_transform method from the mimosca.py file is called again\n",
    "#aftet this, the expression values are log2-transformed and normalized, and are passed to the Zgenes_floor() function in the mimosca.py file\n",
    "#this function calculates the z-scores for each gene, which indicates how many strandard deviations that gene's expression value deviates from the mean expression value across all genes\n",
    "#the floor paramater means any of the z-scores with a value lower than the value specified for floor are set to that value \n",
    "#the purpose of this is to help reduce the impact of outliers \n",
    "#the expression values are now standardized and stored in the new DGEwtZ DataFrame\n",
    "DGEwtZ = mimosca.Zgenes_floor(np.log2(mimosca.tp10k_transform(DGE_wt)+1),floor=0.1)#,batchvec=batchwt)\n"
   ]
  },
  {
   "cell_type": "code",
   "execution_count": 17,
   "metadata": {
    "collapsed": true
   },
   "outputs": [
    {
     "name": "stdout",
     "output_type": "stream",
     "text": [
      "<class 'pandas.core.frame.DataFrame'>\n"
     ]
    },
    {
     "ename": "AttributeError",
     "evalue": "'Series' object has no attribute 'reshape'",
     "output_type": "error",
     "traceback": [
      "\u001b[0;31m---------------------------------------------------------------------------\u001b[0m",
      "\u001b[0;31mAttributeError\u001b[0m                            Traceback (most recent call last)",
      "\u001b[0;32m/tmp/ipykernel_2732276/532046511.py\u001b[0m in \u001b[0;36m<module>\u001b[0;34m\u001b[0m\n\u001b[1;32m     11\u001b[0m \u001b[0;31m#[Ufb,Sfb,Vfb]=mimosca.fb_pca(M,k=50)\u001b[0m\u001b[0;34m\u001b[0m\u001b[0;34m\u001b[0m\u001b[0;34m\u001b[0m\u001b[0m\n\u001b[1;32m     12\u001b[0m \u001b[0mprint\u001b[0m\u001b[0;34m(\u001b[0m\u001b[0mtype\u001b[0m\u001b[0;34m(\u001b[0m\u001b[0mDGEwtZ\u001b[0m\u001b[0;34m)\u001b[0m\u001b[0;34m)\u001b[0m\u001b[0;34m\u001b[0m\u001b[0;34m\u001b[0m\u001b[0m\n\u001b[0;32m---> 13\u001b[0;31m \u001b[0;34m[\u001b[0m\u001b[0mUfb\u001b[0m\u001b[0;34m,\u001b[0m\u001b[0mSfb\u001b[0m\u001b[0;34m,\u001b[0m\u001b[0mVfb\u001b[0m\u001b[0;34m]\u001b[0m\u001b[0;34m=\u001b[0m\u001b[0mmimosca\u001b[0m\u001b[0;34m.\u001b[0m\u001b[0mfb_pca\u001b[0m\u001b[0;34m(\u001b[0m\u001b[0mDGEwtZ\u001b[0m\u001b[0;34m,\u001b[0m\u001b[0mk\u001b[0m\u001b[0;34m=\u001b[0m\u001b[0;36m50\u001b[0m\u001b[0;34m)\u001b[0m\u001b[0;34m\u001b[0m\u001b[0;34m\u001b[0m\u001b[0m\n\u001b[0m\u001b[1;32m     14\u001b[0m \u001b[0;34m\u001b[0m\u001b[0m\n\u001b[1;32m     15\u001b[0m \u001b[0;31m#[Ufb,Sfb,Vfb]=mimosca.fb_pca(DGEwtZ.values,k=50)\u001b[0m\u001b[0;34m\u001b[0m\u001b[0;34m\u001b[0m\u001b[0;34m\u001b[0m\u001b[0m\n",
      "\u001b[0;32m~/repo/coin_seq/MIMOSCA-1/mimosca.py\u001b[0m in \u001b[0;36mfb_pca\u001b[0;34m(DGE, k)\u001b[0m\n\u001b[1;32m   1269\u001b[0m \u001b[0;32mdef\u001b[0m \u001b[0mfb_pca\u001b[0m\u001b[0;34m(\u001b[0m\u001b[0mDGE\u001b[0m\u001b[0;34m,\u001b[0m\u001b[0mk\u001b[0m\u001b[0;34m=\u001b[0m\u001b[0;36m50\u001b[0m\u001b[0;34m)\u001b[0m\u001b[0;34m:\u001b[0m\u001b[0;34m\u001b[0m\u001b[0;34m\u001b[0m\u001b[0m\n\u001b[1;32m   1270\u001b[0m     \u001b[0;32mif\u001b[0m \u001b[0;34m'fbpca'\u001b[0m \u001b[0;32min\u001b[0m \u001b[0msys\u001b[0m\u001b[0;34m.\u001b[0m\u001b[0mmodules\u001b[0m\u001b[0;34m:\u001b[0m\u001b[0;34m\u001b[0m\u001b[0;34m\u001b[0m\u001b[0m\n\u001b[0;32m-> 1271\u001b[0;31m         \u001b[0;34m[\u001b[0m\u001b[0mUfb\u001b[0m\u001b[0;34m,\u001b[0m\u001b[0mSfb\u001b[0m\u001b[0;34m,\u001b[0m\u001b[0mVfb\u001b[0m\u001b[0;34m]\u001b[0m\u001b[0;34m=\u001b[0m\u001b[0mfbpca\u001b[0m\u001b[0;34m.\u001b[0m\u001b[0mpca\u001b[0m\u001b[0;34m(\u001b[0m\u001b[0mDGE\u001b[0m\u001b[0;34m,\u001b[0m\u001b[0mk\u001b[0m\u001b[0;34m)\u001b[0m\u001b[0;34m\u001b[0m\u001b[0;34m\u001b[0m\u001b[0m\n\u001b[0m\u001b[1;32m   1272\u001b[0m     \u001b[0;32melse\u001b[0m\u001b[0;34m:\u001b[0m\u001b[0;34m\u001b[0m\u001b[0;34m\u001b[0m\u001b[0m\n\u001b[1;32m   1273\u001b[0m         \u001b[0mpca\u001b[0m\u001b[0;34m=\u001b[0m\u001b[0msklearn\u001b[0m\u001b[0;34m.\u001b[0m\u001b[0mdecomposition\u001b[0m\u001b[0;34m.\u001b[0m\u001b[0mPCA\u001b[0m\u001b[0;34m(\u001b[0m\u001b[0mn_components\u001b[0m\u001b[0;34m=\u001b[0m\u001b[0mk\u001b[0m\u001b[0;34m)\u001b[0m\u001b[0;34m\u001b[0m\u001b[0;34m\u001b[0m\u001b[0m\n",
      "\u001b[0;32m~/anaconda3/envs/mimoscaENV/lib/python3.7/site-packages/fbpca.py\u001b[0m in \u001b[0;36mpca\u001b[0;34m(A, k, raw, n_iter, l)\u001b[0m\n\u001b[1;32m   1636\u001b[0m         \u001b[0;31m#\u001b[0m\u001b[0;34m\u001b[0m\u001b[0;34m\u001b[0m\u001b[0;34m\u001b[0m\u001b[0m\n\u001b[1;32m   1637\u001b[0m         \u001b[0mc\u001b[0m \u001b[0;34m=\u001b[0m \u001b[0mA\u001b[0m\u001b[0;34m.\u001b[0m\u001b[0msum\u001b[0m\u001b[0;34m(\u001b[0m\u001b[0maxis\u001b[0m\u001b[0;34m=\u001b[0m\u001b[0;36m0\u001b[0m\u001b[0;34m)\u001b[0m \u001b[0;34m/\u001b[0m \u001b[0mm\u001b[0m\u001b[0;34m\u001b[0m\u001b[0;34m\u001b[0m\u001b[0m\n\u001b[0;32m-> 1638\u001b[0;31m         \u001b[0mc\u001b[0m \u001b[0;34m=\u001b[0m \u001b[0mc\u001b[0m\u001b[0;34m.\u001b[0m\u001b[0mreshape\u001b[0m\u001b[0;34m(\u001b[0m\u001b[0;34m(\u001b[0m\u001b[0;36m1\u001b[0m\u001b[0;34m,\u001b[0m \u001b[0mn\u001b[0m\u001b[0;34m)\u001b[0m\u001b[0;34m)\u001b[0m\u001b[0;34m\u001b[0m\u001b[0;34m\u001b[0m\u001b[0m\n\u001b[0m\u001b[1;32m   1639\u001b[0m \u001b[0;34m\u001b[0m\u001b[0m\n\u001b[1;32m   1640\u001b[0m         \u001b[0;31m#\u001b[0m\u001b[0;34m\u001b[0m\u001b[0;34m\u001b[0m\u001b[0;34m\u001b[0m\u001b[0m\n",
      "\u001b[0;32m~/anaconda3/envs/mimoscaENV/lib/python3.7/site-packages/pandas/core/generic.py\u001b[0m in \u001b[0;36m__getattr__\u001b[0;34m(self, name)\u001b[0m\n\u001b[1;32m   5485\u001b[0m         ):\n\u001b[1;32m   5486\u001b[0m             \u001b[0;32mreturn\u001b[0m \u001b[0mself\u001b[0m\u001b[0;34m[\u001b[0m\u001b[0mname\u001b[0m\u001b[0;34m]\u001b[0m\u001b[0;34m\u001b[0m\u001b[0;34m\u001b[0m\u001b[0m\n\u001b[0;32m-> 5487\u001b[0;31m         \u001b[0;32mreturn\u001b[0m \u001b[0mobject\u001b[0m\u001b[0;34m.\u001b[0m\u001b[0m__getattribute__\u001b[0m\u001b[0;34m(\u001b[0m\u001b[0mself\u001b[0m\u001b[0;34m,\u001b[0m \u001b[0mname\u001b[0m\u001b[0;34m)\u001b[0m\u001b[0;34m\u001b[0m\u001b[0;34m\u001b[0m\u001b[0m\n\u001b[0m\u001b[1;32m   5488\u001b[0m \u001b[0;34m\u001b[0m\u001b[0m\n\u001b[1;32m   5489\u001b[0m     \u001b[0;32mdef\u001b[0m \u001b[0m__setattr__\u001b[0m\u001b[0;34m(\u001b[0m\u001b[0mself\u001b[0m\u001b[0;34m,\u001b[0m \u001b[0mname\u001b[0m\u001b[0;34m:\u001b[0m \u001b[0mstr\u001b[0m\u001b[0;34m,\u001b[0m \u001b[0mvalue\u001b[0m\u001b[0;34m)\u001b[0m \u001b[0;34m->\u001b[0m \u001b[0;32mNone\u001b[0m\u001b[0;34m:\u001b[0m\u001b[0;34m\u001b[0m\u001b[0;34m\u001b[0m\u001b[0m\n",
      "\u001b[0;31mAttributeError\u001b[0m: 'Series' object has no attribute 'reshape'"
     ]
    }
   ],
   "source": [
    "#Facebook's Fast PCA (useful if using more than 10,000 cells) for calculating SVD, top 50 components\n",
    "#the following line of code uses the mimosca module to perfrom PCA on the gene expression dataset DGEwtZ\n",
    "#fbpca is used for 'dimensionality reduction and identification of underlying patterns in high-dimensional datasets\"\n",
    "#when working with gene expression data, fbpca is used to identify (in this case 50) principle components\n",
    "#the principle components are supposed to capture the major sources of variation in the data\n",
    "#ufb, sfb, vfb are matrices and represent the sigular value decompostion (SVD) of the input matrix (basically just a way to represent the matrix in a reduced-dimensionality form)\n",
    "\n",
    "# print(pd.__version__) pretty sure we need a version earlier than 0.20.3\n",
    "#[Ufb,Sfb,Vfb]=mimosca.fb_pca(DGEwtZ,k=50) #i think the pca method expects the input as a numpy array or matrix \n",
    "#M = np.asmatrix(DGEwtZ.values)\n",
    "#[Ufb,Sfb,Vfb]=mimosca.fb_pca(M,k=50)\n",
    "print(type(DGEwtZ))\n",
    "[Ufb,Sfb,Vfb]=mimosca.fb_pca(DGEwtZ,k=50)\n",
    "\n",
    "#[Ufb,Sfb,Vfb]=mimosca.fb_pca(DGEwtZ.values,k=50)\n"
   ]
  },
  {
   "cell_type": "code",
   "execution_count": null,
   "metadata": {
    "collapsed": true
   },
   "outputs": [],
   "source": [
    "#Genes detected per cell\n",
    "#cqc represents the number of non-zero elements in the DGE_wt matrix\n",
    "#'DGE_wt>0' creates a boolean matrix, true corresponds to values > 0, and then sum() is used to sum the boolean values in the matrix\n",
    "cqc=(DGE_wt>0).sum()"
   ]
  },
  {
   "cell_type": "code",
   "execution_count": null,
   "metadata": {
    "collapsed": false
   },
   "outputs": [],
   "source": [
    "#Calculate correlation of PC scores with genes detected\n",
    "#correlation between the principal compoent scores and number of genes detected in the input gene expression data is calculated here\n",
    "#the qc_cor list stores the correlation coefficients between each PC scores and the number of genes detected \n",
    "#the vfb matrix represents right singular vectors from the output of the fbpca performed earlier \n",
    "#the plot allows us to visualize how well each PC score correlates with the number of genes detected in the input gene expression data\n",
    "#each principal component (PC) in pca is a linear combination of the original gene expression values for all genes in the dataset\n",
    "#each PC is a weighted sum of the expression values of all the genes\n",
    "#each PC represents a different pattern of gene expression across the samples, and the first view captures the largest variance in the data\n",
    "#when performing pca we have the input matrix x which usually has each row corresponding to a gene, and each column representing a sample\n",
    "#this matrix is used to calculate a covariance matrix, whos elements represent the covariance between pairs of the expression matrix\n",
    "#the np.corrcoer() function is used to calculate the correlation coefficient between the PC score and the cqc variable, and they are added to the qc_cor list\n",
    "qc_cor=[]\n",
    "for pc in Vfb.columns:\n",
    "    qc_cor.append(np.corrcoef(Vfb[pc],cqc)[0][1])\n",
    "plt.plot(qc_cor)\n",
    "plt.xlabel('PCs')\n",
    "plt.ylabel('Correlation with Genes Detected')"
   ]
  },
  {
   "cell_type": "markdown",
   "metadata": {},
   "source": [
    "## The Permutation and Noise Envelope Calculations Below Give The User Some Sense of the Number of PCs that are \"significant\""
   ]
  },
  {
   "cell_type": "code",
   "execution_count": 12,
   "metadata": {
    "collapsed": false
   },
   "outputs": [
    {
     "ename": "AttributeError",
     "evalue": "'DataFrame' object has no attribute 'ix'",
     "output_type": "error",
     "traceback": [
      "\u001b[0;31m---------------------------------------------------------------------------\u001b[0m",
      "\u001b[0;31mAttributeError\u001b[0m                            Traceback (most recent call last)",
      "\u001b[0;32m/tmp/ipykernel_2732276/1033464930.py\u001b[0m in \u001b[0;36m<module>\u001b[0;34m\u001b[0m\n\u001b[1;32m      1\u001b[0m \u001b[0;31m# Permute gene expression matrix and calculate SVD\u001b[0m\u001b[0;34m\u001b[0m\u001b[0;34m\u001b[0m\u001b[0;34m\u001b[0m\u001b[0m\n\u001b[1;32m      2\u001b[0m \u001b[0;31m#the following line of code is using the permute_matrix in mimsoca.py to permute the gene expression matrix stored in DGE_wt\u001b[0m\u001b[0;34m\u001b[0m\u001b[0;34m\u001b[0m\u001b[0;34m\u001b[0m\u001b[0m\n\u001b[0;32m----> 3\u001b[0;31m \u001b[0mDGE_perm\u001b[0m\u001b[0;34m=\u001b[0m\u001b[0mmimosca\u001b[0m\u001b[0;34m.\u001b[0m\u001b[0mpermute_matrix\u001b[0m\u001b[0;34m(\u001b[0m\u001b[0mDGE_wt\u001b[0m\u001b[0;34m)\u001b[0m\u001b[0;34m\u001b[0m\u001b[0;34m\u001b[0m\u001b[0m\n\u001b[0m\u001b[1;32m      4\u001b[0m \u001b[0;34m\u001b[0m\u001b[0m\n\u001b[1;32m      5\u001b[0m \u001b[0;31m#the tp10k_transform method to apply a transformation, followed by normalization\u001b[0m\u001b[0;34m\u001b[0m\u001b[0;34m\u001b[0m\u001b[0;34m\u001b[0m\u001b[0m\n",
      "\u001b[0;32m~/repo/coin_seq/MIMOSCA-1/mimosca.py\u001b[0m in \u001b[0;36mpermute_matrix\u001b[0;34m(DGE, bins, verbose)\u001b[0m\n\u001b[1;32m    237\u001b[0m         \u001b[0;32mfor\u001b[0m \u001b[0mj\u001b[0m \u001b[0;32min\u001b[0m \u001b[0mrange\u001b[0m\u001b[0;34m(\u001b[0m\u001b[0mlen\u001b[0m\u001b[0;34m(\u001b[0m\u001b[0mDGE\u001b[0m\u001b[0;34m.\u001b[0m\u001b[0mcolumns\u001b[0m\u001b[0;34m)\u001b[0m\u001b[0;34m)\u001b[0m\u001b[0;34m:\u001b[0m\u001b[0;34m\u001b[0m\u001b[0;34m\u001b[0m\u001b[0m\n\u001b[1;32m    238\u001b[0m             \u001b[0mcurlogical\u001b[0m\u001b[0;34m=\u001b[0m\u001b[0mnp\u001b[0m\u001b[0;34m.\u001b[0m\u001b[0mlogical_and\u001b[0m\u001b[0;34m(\u001b[0m\u001b[0mGSUMS\u001b[0m\u001b[0;34m>\u001b[0m\u001b[0mbreaks\u001b[0m\u001b[0;34m[\u001b[0m\u001b[0mi\u001b[0m\u001b[0;34m]\u001b[0m\u001b[0;34m,\u001b[0m\u001b[0mGSUMS\u001b[0m\u001b[0;34m<=\u001b[0m\u001b[0mbreaks\u001b[0m\u001b[0;34m[\u001b[0m\u001b[0mi\u001b[0m\u001b[0;34m+\u001b[0m\u001b[0;36m1\u001b[0m\u001b[0;34m]\u001b[0m\u001b[0;34m)\u001b[0m\u001b[0;34m\u001b[0m\u001b[0;34m\u001b[0m\u001b[0m\n\u001b[0;32m--> 239\u001b[0;31m             \u001b[0mDGE_perm\u001b[0m\u001b[0;34m.\u001b[0m\u001b[0mix\u001b[0m\u001b[0;34m[\u001b[0m\u001b[0mcurlogical\u001b[0m\u001b[0;34m,\u001b[0m\u001b[0mj\u001b[0m\u001b[0;34m]\u001b[0m\u001b[0;34m=\u001b[0m\u001b[0mnp\u001b[0m\u001b[0;34m.\u001b[0m\u001b[0mrandom\u001b[0m\u001b[0;34m.\u001b[0m\u001b[0mpermutation\u001b[0m\u001b[0;34m(\u001b[0m\u001b[0mDGE_perm\u001b[0m\u001b[0;34m.\u001b[0m\u001b[0mix\u001b[0m\u001b[0;34m[\u001b[0m\u001b[0mcurlogical\u001b[0m\u001b[0;34m,\u001b[0m\u001b[0mj\u001b[0m\u001b[0;34m]\u001b[0m\u001b[0;34m)\u001b[0m\u001b[0;34m\u001b[0m\u001b[0;34m\u001b[0m\u001b[0m\n\u001b[0m\u001b[1;32m    240\u001b[0m     \u001b[0;32mreturn\u001b[0m \u001b[0mDGE_perm\u001b[0m\u001b[0;34m\u001b[0m\u001b[0;34m\u001b[0m\u001b[0m\n\u001b[1;32m    241\u001b[0m \u001b[0;34m\u001b[0m\u001b[0m\n",
      "\u001b[0;32m~/anaconda3/envs/mimoscaENV/lib/python3.7/site-packages/pandas/core/generic.py\u001b[0m in \u001b[0;36m__getattr__\u001b[0;34m(self, name)\u001b[0m\n\u001b[1;32m   5485\u001b[0m         ):\n\u001b[1;32m   5486\u001b[0m             \u001b[0;32mreturn\u001b[0m \u001b[0mself\u001b[0m\u001b[0;34m[\u001b[0m\u001b[0mname\u001b[0m\u001b[0;34m]\u001b[0m\u001b[0;34m\u001b[0m\u001b[0;34m\u001b[0m\u001b[0m\n\u001b[0;32m-> 5487\u001b[0;31m         \u001b[0;32mreturn\u001b[0m \u001b[0mobject\u001b[0m\u001b[0;34m.\u001b[0m\u001b[0m__getattribute__\u001b[0m\u001b[0;34m(\u001b[0m\u001b[0mself\u001b[0m\u001b[0;34m,\u001b[0m \u001b[0mname\u001b[0m\u001b[0;34m)\u001b[0m\u001b[0;34m\u001b[0m\u001b[0;34m\u001b[0m\u001b[0m\n\u001b[0m\u001b[1;32m   5488\u001b[0m \u001b[0;34m\u001b[0m\u001b[0m\n\u001b[1;32m   5489\u001b[0m     \u001b[0;32mdef\u001b[0m \u001b[0m__setattr__\u001b[0m\u001b[0;34m(\u001b[0m\u001b[0mself\u001b[0m\u001b[0;34m,\u001b[0m \u001b[0mname\u001b[0m\u001b[0;34m:\u001b[0m \u001b[0mstr\u001b[0m\u001b[0;34m,\u001b[0m \u001b[0mvalue\u001b[0m\u001b[0;34m)\u001b[0m \u001b[0;34m->\u001b[0m \u001b[0;32mNone\u001b[0m\u001b[0;34m:\u001b[0m\u001b[0;34m\u001b[0m\u001b[0;34m\u001b[0m\u001b[0m\n",
      "\u001b[0;31mAttributeError\u001b[0m: 'DataFrame' object has no attribute 'ix'"
     ]
    }
   ],
   "source": [
    "# Permute gene expression matrix and calculate SVD\n",
    "#the following line of code is using the permute_matrix in mimsoca.py to permute the gene expression matrix stored in DGE_wt\n",
    "DGE_perm=mimosca.permute_matrix(DGE_wt)\n",
    "\n",
    "#the tp10k_transform method to apply a transformation, followed by normalization\n",
    "DGEwtZperm = mimosca.Zgenes(np.log2(mimosca.tp10k_transform(DGE_perm)+1))\n",
    "\n",
    "#on the normalized matrix, the fb_pca function is called from the mimosca.py file to return 3 matrices\n",
    "#these matrices represent the reduced-dimensionality form of the matrix\n",
    "[Ufbperm,Sfbperm,Vfbperm]=mimosca.fb_pca(DGEwtZperm,k=50)\n",
    "\n",
    "#plots the singular values ('sfb' and 'sfbperm')\n",
    "#using the singular value decompostion of the matrix, sfb and sfbperm are calculated forthe actual gene expression matrix and the permuted gene expression matrix, respectivley\n",
    "#we want to plot them against eachother to compare the two sets of values\n",
    "#the purpose of doing this is because when we permuate the matrix, we obtain a set of singular values that represent the distribution of singular values we would expect to observe by chance\n",
    "#this means if the singular values of the original matrix are similar, it suggests the observed structure of the original matrix is likely because of random variation \n",
    "plt.plot(Sfb,label='Actual Data')\n",
    "plt.plot(Sfbperm,label='Permuted Data')\n",
    "plt.legend()\n",
    "plt.ylabel('Singular Values')\n",
    "plt.xlabel('Ranked Eigenvectors')"
   ]
  },
  {
   "cell_type": "code",
   "execution_count": null,
   "metadata": {
    "collapsed": false
   },
   "outputs": [],
   "source": [
    "#calculate sensitivity of various PCs to noise and show noise envelope profile\n",
    "#the noise envelope profile plots the correlation between the original eigenvector (computed during pca)\n",
    "#and a range of eigenvectors generated by adding different levels of noise to the data (introducing random variations in the original data values)\n",
    "#this helps evaluate how robust a method is to noise \n",
    "PC_cor=mimosca.PC_noise(DGEwtZ)\n",
    "\n",
    "for i in range(20):\n",
    "    plt.plot(np.linspace(-2,2,20),PC_cor.iloc[i],label=i)\n",
    "plt.legend()\n",
    "plt.xlabel('Log10(Added Noise)')\n",
    "plt.ylabel('Correlation with Original Eigenvector')"
   ]
  },
  {
   "cell_type": "code",
   "execution_count": null,
   "metadata": {
    "collapsed": false
   },
   "outputs": [],
   "source": [
    "#calling the jackstraw function in the mimsoca.py file to perform jackstraw resampling on the standardized gene expression matrix DGEwtZ\n",
    "#the function permutes each column of DGEwtZ and performs PCA on the resulting permuted matrix\n",
    "#the resulting PCA scores are used to estimate the null distribution of each principal component\n",
    "#the p-values of each principal component are calculated based on the portion of permuted PCA scores that are greater than the observed PCA score\n",
    "#the point of finding p-values is to identify genes that are significantly associated with each PC\n",
    "#a low p-value for a gene in a principal component means that gene is likely to be driving the variation in that PC\n",
    "#this can provide insights into the biologcal pathways that underlie the observed variation in gene expression\n",
    "PVALS=mimosca.jackstraw(DGEwtZ,sig_pcs=10,reps=1000,per=0.005)"
   ]
  },
  {
   "cell_type": "code",
   "execution_count": null,
   "metadata": {
    "collapsed": false
   },
   "outputs": [],
   "source": [
    "#Example of Jackstraw p-value calculation\n",
    "#this code is showing the results of one of the Jackstraw analysis for one of the principal components\n",
    "#the x-axis represents the loadings for a principal component which can be thought of as the contribution of each gene to the variation captured by that component\n",
    "#the y-axis represents the signed Log10(q-value) obtained from the analysis, which tests the significance of each gene's contribution to the PC \n",
    "plt.scatter(Ufb[0],PVALS[0]) #changing the index from 0 to something else will repeat this for another PC\n",
    "plt.axhline(1.3,c='red')\n",
    "plt.axhline(-1.3,c='red')\n",
    "plt.ylabel('Signed Log10(q-value) Jackstraw')\n",
    "plt.xlabel('PCA loadings')\n",
    "plt.title('PC2') #label error? should this be PC1? "
   ]
  },
  {
   "cell_type": "code",
   "execution_count": null,
   "metadata": {
    "collapsed": false
   },
   "outputs": [],
   "source": [
    "#PCA is performed on tge DGEwtZ gene expression matrix \n",
    "#thresh specifies the threshold for the gene loadings, which is the contribution of each gene to the principle component\n",
    "#gene loadings above the threshold will be considered important for the analysis \n",
    "#repin specifes the number of iterations for the random matrix resampling step that is used to estimate the distribution of the loadings\n",
    "#df_pc is a PCRes object, one of the attributes being the 'pc' attribute, which is a matrix containing the principal components\n",
    "df_pc = mimosca.PCA2GO(DGEwtZ,thresh=1.3,repin=1000,species='mouse')"
   ]
  },
  {
   "cell_type": "code",
   "execution_count": null,
   "metadata": {
    "collapsed": false
   },
   "outputs": [],
   "source": [
    "#creating a hierarchical clustering heatmap using the seaborn library with a specificed size and rotated y-axis labels\n",
    "cg=sns.clustermap(df_pc,figsize=(10,20))\n",
    "a=plt.setp(cg.ax_heatmap.yaxis.get_majorticklabels(),rotation=0)"
   ]
  },
  {
   "cell_type": "code",
   "execution_count": null,
   "metadata": {
    "collapsed": false
   },
   "outputs": [],
   "source": [
    "# Select 9 PCs based on the qc plots above\n",
    "Vfb_cluster=Vfb.ix[:,range(9)] #is using the .ix indexing method (which is now deprecated and replaced by .loc or .iloc in newer versions of pandas)"
   ]
  },
  {
   "cell_type": "code",
   "execution_count": null,
   "metadata": {
    "collapsed": false
   },
   "outputs": [],
   "source": [
    "model = sklearn.manifold.TSNE(n_components=2, perplexity=20,verbose=2,init='pca',n_iter_without_progress=10000,min_grad_norm=0)\n",
    "T_sne=model.fit_transform(Vfb_cluster)"
   ]
  },
  {
   "cell_type": "code",
   "execution_count": null,
   "metadata": {
    "collapsed": false
   },
   "outputs": [],
   "source": [
    "#Tsne plot colored by genes detected\n",
    "T_sne=pd.DataFrame(T_sne)\n",
    "plt.scatter(T_sne[0],T_sne[1],alpha=0.75,c=cqc,cmap='bwr')"
   ]
  },
  {
   "cell_type": "code",
   "execution_count": null,
   "metadata": {
    "collapsed": true
   },
   "outputs": [],
   "source": [
    "# You can use infomap if you have the libraries installed, this is probably slightly overclustered\n",
    "info_labels=['cluster-'+str(x) for x in sklearn.cluster.k_means(Vfb_cluster,7)[1]]"
   ]
  },
  {
   "cell_type": "code",
   "execution_count": null,
   "metadata": {
    "collapsed": false
   },
   "outputs": [],
   "source": [
    "info_labels=np.array(info_labels)\n",
    "unique_labs=np.unique(info_labels)\n",
    "len(unique_labs)"
   ]
  },
  {
   "cell_type": "code",
   "execution_count": null,
   "metadata": {
    "collapsed": false
   },
   "outputs": [],
   "source": [
    "Tsneplot=T_sne.copy()\n",
    "Tsneplot.columns=['1','2']\n",
    "Tsneplot['clustering']=np.array(info_labels)\n",
    "sns.lmplot('1','2',data=Tsneplot,hue='clustering',fit_reg=False)"
   ]
  },
  {
   "cell_type": "code",
   "execution_count": null,
   "metadata": {
    "collapsed": true
   },
   "outputs": [],
   "source": [
    "DGE_wtall=DGE1"
   ]
  },
  {
   "cell_type": "code",
   "execution_count": null,
   "metadata": {
    "collapsed": true
   },
   "outputs": [],
   "source": [
    "DGE_Z_expressed=mimosca.Zgenes(np.log2(mimosca.tp10k_transform(DGE_wtall[DGE_wtall.sum(axis=1)>20])+1))"
   ]
  },
  {
   "cell_type": "code",
   "execution_count": null,
   "metadata": {
    "collapsed": false
   },
   "outputs": [],
   "source": [
    "#calculate pairwsie differential expression between each cluster and if below some threshold merge\n",
    "df_DE=mimosca.cluster_merger(DGE_Z_expressed,Vfb_cluster.index,info_labels)\n",
    "df_DE"
   ]
  },
  {
   "cell_type": "code",
   "execution_count": null,
   "metadata": {
    "collapsed": false
   },
   "outputs": [],
   "source": [
    "#differential expression per cluster, each cluster against all others\n",
    "df_minp = pd.DataFrame()\n",
    "allcells=set(Vfb_cluster.index)\n",
    "df_DC_cluster=pd.DataFrame()\n",
    "\n",
    "for lab1 in unique_labs:\n",
    "    cells1=Vfb_cluster.index[info_labels==lab1]\n",
    "    cells2=list(allcells-set(cells1))\n",
    "    print(lab1,len(cells1))\n",
    "\n",
    "    fc,sl10pval=mimosca.ttest_DGE(DGE_Z_expressed[cells1],DGE_Z_expressed[cells2])\n",
    "    #sl10pval=np.array(pd.DataFrame(sl10pval))\n",
    "    df_minp[lab1]=np.sign(sl10pval)*(-np.log10(statsmodels.sandbox.stats.multicomp.fdrcorrection0(np.power(10,-np.abs(sl10pval)))[1]))#sl10pval "
   ]
  },
  {
   "cell_type": "code",
   "execution_count": null,
   "metadata": {
    "collapsed": true
   },
   "outputs": [],
   "source": [
    "#convert infinity values to finite numbers\n",
    "df_minp.index=DGE_Z_expressed.index\n",
    "df_minp[df_minp>(1000.0)]=1000.0\n",
    "df_minp[df_minp<(-1000.0)]=-1000.0"
   ]
  },
  {
   "cell_type": "code",
   "execution_count": null,
   "metadata": {
    "collapsed": true
   },
   "outputs": [],
   "source": [
    "df_minp.index=mimosca.genenames_from10x(df_minp.index)"
   ]
  },
  {
   "cell_type": "code",
   "execution_count": null,
   "metadata": {
    "collapsed": false
   },
   "outputs": [],
   "source": [
    "df_DEGO=mimosca.DE2GO(df_minp,df_minp.index,sig_thresh=1.3,species='mouse')"
   ]
  },
  {
   "cell_type": "code",
   "execution_count": null,
   "metadata": {
    "collapsed": false
   },
   "outputs": [],
   "source": [
    "#plot GO enrichments (remove .sample(100) and asjust figsize if you want to see them all)\n",
    "cg=sns.clustermap(df_DEGO.sample(100),figsize=(20,20),metric='correlation')\n",
    "a=plt.setp(cg.ax_heatmap.yaxis.get_majorticklabels(),rotation=0)"
   ]
  },
  {
   "cell_type": "code",
   "execution_count": null,
   "metadata": {
    "collapsed": true
   },
   "outputs": [],
   "source": [
    "Vfb_cluster_reproject=mimosca.project_ontoPC(Ufb.ix[:,range(9)],DGEwtZ)\n",
    "from sklearn.ensemble import RandomForestClassifier\n",
    "clf = RandomForestClassifier(n_estimators=100,n_jobs=-1,oob_score=True,class_weight='balanced')\n",
    "clf = clf.fit(Vfb_cluster_reproject,info_labels)\n",
    "OOB=pd.DataFrame(clf.oob_decision_function_)"
   ]
  },
  {
   "cell_type": "code",
   "execution_count": null,
   "metadata": {
    "collapsed": false
   },
   "outputs": [],
   "source": [
    "#quantify how many cells are confidently classified\n",
    "np.mean(OOB.max(axis=1)>0.5)"
   ]
  },
  {
   "cell_type": "code",
   "execution_count": null,
   "metadata": {
    "collapsed": false
   },
   "outputs": [],
   "source": [
    "#plot AUC curves for class membership\n",
    "\n",
    "clusterun=np.unique(info_labels)\n",
    "\n",
    "for i in range(np.shape(OOB)[1]):\n",
    "    [fpr,tpr,thresholds]=sklearn.metrics.roc_curve(info_labels==clusterun[i],OOB[i])\n",
    "    plt.plot(fpr,tpr)\n",
    "    plt.xlabel('False Positive Rate')\n",
    "    plt.ylabel('True Positive Rate')"
   ]
  },
  {
   "cell_type": "code",
   "execution_count": null,
   "metadata": {
    "collapsed": false
   },
   "outputs": [],
   "source": [
    "#Pseudo code for classifying new dataset\n",
    "\n",
    "#DGEZ=New dataset you want to classify\n",
    "#Vfb_new=mimosca.project_ontoPC(Ufb,DGEZ)\n",
    "#PROBS=pd.DataFrame(clf.predict_proba(Vfb_new.ix[:,range(9)]))\n",
    "#np.mean(PROBS.max(axis=1)>0.5)"
   ]
  }
 ],
 "metadata": {
  "kernelspec": {
   "display_name": "base",
   "language": "python",
   "name": "python3"
  },
  "language_info": {
   "codemirror_mode": {
    "name": "ipython",
    "version": 3
   },
   "file_extension": ".py",
   "mimetype": "text/x-python",
   "name": "python",
   "nbconvert_exporter": "python",
   "pygments_lexer": "ipython3",
   "version": "3.7.12"
  }
 },
 "nbformat": 4,
 "nbformat_minor": 0
}
